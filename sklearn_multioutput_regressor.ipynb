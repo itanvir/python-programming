{
 "cells": [
  {
   "cell_type": "code",
   "execution_count": 1,
   "metadata": {},
   "outputs": [
    {
     "data": {
      "text/plain": [
       "array([[0.20337334, 0.70402122],\n",
       "       [0.19901062, 0.70707574],\n",
       "       [0.48746669, 0.11085034],\n",
       "       [0.71527577, 0.05961595],\n",
       "       [0.47227193, 0.11040457],\n",
       "       [0.80698142, 0.09418433],\n",
       "       [0.4697838 , 0.11085034]])"
      ]
     },
     "execution_count": 1,
     "metadata": {},
     "output_type": "execute_result"
    }
   ],
   "source": [
    "import numpy as np\n",
    "from sklearn.ensemble import GradientBoostingRegressor\n",
    "from sklearn.multioutput import MultiOutputRegressor\n",
    "\n",
    "X_train = np.random.random((10,3))\n",
    "y_train = np.random.random((10,2))\n",
    "X_test = np.random.random((7,3))\n",
    "\n",
    "regr = GradientBoostingRegressor()\n",
    "model = MultiOutputRegressor(regr)\n",
    "\n",
    "model.fit(X_train, y_train)\n",
    "y_pred = model.predict(X_test)\n",
    "y_pred"
   ]
  },
  {
   "cell_type": "code",
   "execution_count": null,
   "metadata": {},
   "outputs": [],
   "source": []
  }
 ],
 "metadata": {
  "kernelspec": {
   "display_name": "Python 3",
   "language": "python",
   "name": "python3"
  },
  "language_info": {
   "codemirror_mode": {
    "name": "ipython",
    "version": 3
   },
   "file_extension": ".py",
   "mimetype": "text/x-python",
   "name": "python",
   "nbconvert_exporter": "python",
   "pygments_lexer": "ipython3",
   "version": "3.7.4"
  }
 },
 "nbformat": 4,
 "nbformat_minor": 2
}
